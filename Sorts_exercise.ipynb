{
 "cells": [
  {
   "cell_type": "code",
   "execution_count": 42,
   "metadata": {},
   "outputs": [],
   "source": [
    "### 排序算法\n",
    "\n",
    "class Sort_tool:\n",
    "    def Bubble_sort(self, nums, DESC = False) -> list[int]: # 冒泡排序：相邻元素比较后移\n",
    "        n = len(nums)\n",
    "        for i in range(n - 1, -1, -1):\n",
    "            change_flag = False\n",
    "            for j in range(i):\n",
    "                if not DESC:\n",
    "                    if nums[j] > nums[j + 1]:\n",
    "                        nums[j], nums[j + 1] = nums[j + 1], nums[j]\n",
    "                        change_flag = True\n",
    "                else:\n",
    "                    if nums[j] < nums[j + 1]:\n",
    "                        nums[j], nums[j + 1] = nums[j + 1], nums[j]\n",
    "                        change_flag = True\n",
    "            if not change_flag: #如果第一次遍历没有交换，则说明已经是顺序排列，直接跳出\n",
    "                break \n",
    "        return nums\n",
    "    \n",
    "    def Selection_sort(self, nums, DESC = False) -> list[int]: #选择排序：每一次选无序区间最小的\n",
    "        n = len(nums)\n",
    "        if DESC:\n",
    "            for i in range(n):\n",
    "                min_index = nums[i:].index(max(nums[i:]))\n",
    "                if min_index != 0:\n",
    "                    nums[i],nums[min_index + i] = nums[min_index + i],nums[i]\n",
    "        else:\n",
    "            for i in range(n):\n",
    "                min_index = nums[i:].index(min(nums[i:]))\n",
    "                if min_index != 0:\n",
    "                    nums[i],nums[min_index + i] = nums[min_index + i],nums[i]\n",
    "        return nums\n",
    "    \n",
    "    def Insertion_sort(self, nums, DESC = False) -> list[int]: #插入排序：无序区间依次插入到有序区间的恰当位置\n",
    "        n = len(nums)\n",
    "        for i in range(1,n):\n",
    "            target = nums[i]\n",
    "            j = i\n",
    "            if not DESC:\n",
    "                while j > 0 and nums[j - 1] > target:\n",
    "                    nums[j] = nums[j - 1]\n",
    "                    j -= 1\n",
    "            else:\n",
    "                while j > 0 and nums[j - 1] < target:\n",
    "                    nums[j] = nums[j - 1]\n",
    "                    j -= 1\n",
    "            nums[j] = target\n",
    "        return nums\n",
    "    \n",
    "    def Shell_sort(self, nums, DESC = False, method = \"Insertion_sort\") -> list[int]: #希尔排序：先按照间隔分组再排序\n",
    "        n = len(nums)\n",
    "        gap = n//2\n",
    "        sort_method = getattr(self, method, None)\n",
    "        if not sort_method:\n",
    "            print(\"排序方法不存在！\")\n",
    "            return\n",
    "        elif method == 'Shell_sort':\n",
    "            print(\"Shell_sort的内置方法不能是Shell_sort\")\n",
    "            return\n",
    "        while gap > 0:\n",
    "            for i in range(0, n - gap):\n",
    "                nums[i:n:gap] = sort_method(nums[i:n:gap],DESC)\n",
    "            gap //= 2    \n",
    "        return nums\n",
    "            \n",
    "    \n",
    "\n"
   ]
  },
  {
   "cell_type": "code",
   "execution_count": 45,
   "metadata": {},
   "outputs": [
    {
     "name": "stdout",
     "output_type": "stream",
     "text": [
      "Shell_sort的内置方法不能是Shell_sort\n"
     ]
    }
   ],
   "source": [
    "Sort_tool().Shell_sort([2,34,25,67,1,4,56,523,7,4,42,5,52,4,4,42,45,6,46],DESC = True,method=\"Shell_sort\")"
   ]
  },
  {
   "cell_type": "code",
   "execution_count": null,
   "metadata": {},
   "outputs": [],
   "source": []
  }
 ],
 "metadata": {
  "kernelspec": {
   "display_name": "base",
   "language": "python",
   "name": "python3"
  },
  "language_info": {
   "codemirror_mode": {
    "name": "ipython",
    "version": 3
   },
   "file_extension": ".py",
   "mimetype": "text/x-python",
   "name": "python",
   "nbconvert_exporter": "python",
   "pygments_lexer": "ipython3",
   "version": "3.11.7"
  }
 },
 "nbformat": 4,
 "nbformat_minor": 2
}
