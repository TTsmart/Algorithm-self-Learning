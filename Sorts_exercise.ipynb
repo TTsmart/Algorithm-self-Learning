{
 "cells": [
  {
   "cell_type": "code",
   "execution_count": 18,
   "metadata": {},
   "outputs": [],
   "source": [
    "### 排序算法\n",
    "\n",
    "# 冒泡排序：相邻元素比较后移\n",
    "class Sort_tool:\n",
    "    def Bubble_sort(self, nums, DESC = False) -> list[int]: \n",
    "        n = len(nums)\n",
    "        for i in range(n - 1, -1, -1):\n",
    "            change_flag = False\n",
    "            for j in range(i):\n",
    "                if not DESC:\n",
    "                    if nums[j] > nums[j + 1]:\n",
    "                        nums[j], nums[j + 1] = nums[j + 1], nums[j]\n",
    "                        change_flag = True\n",
    "                else:\n",
    "                    if nums[j] < nums[j + 1]:\n",
    "                        nums[j], nums[j + 1] = nums[j + 1], nums[j]\n",
    "                        change_flag = True\n",
    "            if not change_flag: #如果第一次遍历没有交换，则说明已经是顺序排列，直接跳出\n",
    "                break \n",
    "        return nums\n",
    "    \n",
    "    # 选择排序：每一次选无序区间最小的\n",
    "    def Selection_sort(self, nums, DESC = False) -> list[int]:\n",
    "        n = len(nums)\n",
    "        if DESC:\n",
    "            for i in range(n):\n",
    "                min_index = nums[i:].index(max(nums[i:]))\n",
    "                if min_index != 0:\n",
    "                    nums[i],nums[min_index + i] = nums[min_index + i],nums[i]\n",
    "        else:\n",
    "            for i in range(n):\n",
    "                min_index = nums[i:].index(min(nums[i:]))\n",
    "                if min_index != 0:\n",
    "                    nums[i],nums[min_index + i] = nums[min_index + i],nums[i]\n",
    "        return nums\n",
    "    \n",
    "    # 插入排序：无序区间依次插入到有序区间的恰当位置\n",
    "    def Insertion_sort(self, nums, DESC = False) -> list[int]:\n",
    "        n = len(nums)\n",
    "        for i in range(1,n):\n",
    "            target = nums[i]\n",
    "            j = i\n",
    "            if not DESC:\n",
    "                while j > 0 and nums[j - 1] > target:\n",
    "                    nums[j] = nums[j - 1]\n",
    "                    j -= 1\n",
    "            else:\n",
    "                while j > 0 and nums[j - 1] < target:\n",
    "                    nums[j] = nums[j - 1]\n",
    "                    j -= 1\n",
    "            nums[j] = target\n",
    "        return nums\n",
    "    \n",
    "     # 希尔排序：先按照间隔分组再排序\n",
    "    def Shell_sort(self, nums, DESC = False, method = \"Insertion_sort\") -> list[int]:\n",
    "        n = len(nums)\n",
    "        gap = n//2\n",
    "        sort_method = getattr(self, method, None)\n",
    "        if not sort_method:\n",
    "            print(\"排序方法不存在！\")\n",
    "            return\n",
    "        elif method == 'Shell_sort':\n",
    "            print(\"Shell_sort的内置方法不能是Shell_sort\")\n",
    "            return\n",
    "        while gap > 0:\n",
    "            for i in range(0, n - gap):\n",
    "                nums[i:n:gap] = sort_method(nums[i:n:gap],DESC)\n",
    "            gap //= 2    \n",
    "        return nums\n",
    "    \n",
    "    # 归并排序：先拆分到1，再合并\n",
    "    def merge(self, left_nums, right_nums, DESC = False) -> list[int]:\n",
    "        nums = []\n",
    "        left_index = 0\n",
    "        right_index = 0\n",
    "        if DESC:\n",
    "            while left_index < len(left_nums) and right_index < len(right_nums):\n",
    "                if left_nums[left_index] > right_nums[right_index]:\n",
    "                    nums.append(left_nums[left_index])\n",
    "                    left_index += 1\n",
    "                else:\n",
    "                    nums.append(right_nums[right_index])\n",
    "                    right_index += 1\n",
    "            while left_index < len(left_nums):\n",
    "                nums.append(left_nums[left_index])\n",
    "                left_index += 1\n",
    "            while right_index < len(right_nums):\n",
    "                nums.append(right_nums[right_index])\n",
    "                right_index += 1\n",
    "        else:\n",
    "            while left_index < len(left_nums) and right_index < len(right_nums):\n",
    "                if left_nums[left_index] < right_nums[right_index]:\n",
    "                    nums.append(left_nums[left_index])\n",
    "                    left_index += 1\n",
    "                else:\n",
    "                    nums.append(right_nums[right_index])\n",
    "                    right_index += 1\n",
    "            while left_index < len(left_nums):\n",
    "                nums.append(left_nums[left_index])\n",
    "                left_index += 1\n",
    "            while right_index < len(right_nums):\n",
    "                nums.append(right_nums[right_index])\n",
    "                right_index += 1\n",
    "        return nums\n",
    "\n",
    "    def Merge_sort(self, nums, DESC = False) -> list[int]:\n",
    "        if len(nums) <= 1:\n",
    "            return nums\n",
    "        mid = len(nums)//2\n",
    "        left_nums = self.Merge_sort(nums[0:mid], DESC = DESC)\n",
    "        right_nums = self.Merge_sort(nums[mid:], DESC = DESC)\n",
    "        return self.merge(left_nums, right_nums, DESC = DESC)\n",
    "\n",
    "    # 快速排序：需要用到递归，找一个基准数，把比它小的都放在左面，比它大的都放在右面\n",
    "    def Quick_sort(self, nums, DESC = False):\n",
    "\n",
    "        "
   ]
  },
  {
   "cell_type": "code",
   "execution_count": 22,
   "metadata": {},
   "outputs": [
    {
     "data": {
      "text/plain": [
       "[7, 35, 12, 99, 53, 35, 14, 5, 49, 69, 72, 43, 44, 7, 21, 18, 44, 72, 43, 90]"
      ]
     },
     "execution_count": 22,
     "metadata": {},
     "output_type": "execute_result"
    }
   ],
   "source": [
    "import random\n",
    "random.seed(123)\n",
    "a = [random.randint(1,100) for _ in range(20)]"
   ]
  },
  {
   "cell_type": "code",
   "execution_count": 20,
   "metadata": {},
   "outputs": [
    {
     "data": {
      "text/plain": [
       "[99, 90, 72, 72, 69, 53, 49, 44, 44, 43, 43, 35, 35, 21, 18, 14, 12, 7, 7, 5]"
      ]
     },
     "execution_count": 20,
     "metadata": {},
     "output_type": "execute_result"
    }
   ],
   "source": [
    "Sort_tool().Merge_sort(a,DESC = True)"
   ]
  }
 ],
 "metadata": {
  "kernelspec": {
   "display_name": "base",
   "language": "python",
   "name": "python3"
  },
  "language_info": {
   "codemirror_mode": {
    "name": "ipython",
    "version": 3
   },
   "file_extension": ".py",
   "mimetype": "text/x-python",
   "name": "python",
   "nbconvert_exporter": "python",
   "pygments_lexer": "ipython3",
   "version": "3.11.7"
  }
 },
 "nbformat": 4,
 "nbformat_minor": 2
}
